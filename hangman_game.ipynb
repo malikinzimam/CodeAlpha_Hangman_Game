{
 "cells": [
  {
   "cell_type": "code",
   "execution_count": null,
   "metadata": {},
   "outputs": [
    {
     "name": "stdout",
     "output_type": "stream",
     "text": [
      "Welcome to Hangman!\n",
      "_ _ _ _ _ _ _ _ _ _ _\n",
      "Good guess!\n",
      "p _ _ _ _ _ _ _ _ _ _\n",
      "Good guess!\n",
      "p _ o _ _ _ _ _ _ _ _\n",
      "Good guess!\n",
      "p _ o g _ _ _ _ _ _ g\n",
      "Good guess!\n",
      "p r o g r _ _ _ _ _ g\n",
      "Good guess!\n",
      "p r o g r a _ _ _ _ g\n",
      "Good guess!\n",
      "p r o g r a m m _ _ g\n",
      "Good guess!\n",
      "p r o g r a m m i _ g\n",
      "Good guess!\n",
      "p r o g r a m m i n g\n",
      "\n",
      "Congratulations! You guessed the word: programming\n"
     ]
    }
   ],
   "source": [
    "import random\n",
    "\n",
    "# Possible words list\n",
    "word_list = [\"python\", \"hangman\", \"developer\", \"programming\", \"challenge\", \"computer\"]\n",
    "\n",
    "# Select a random word\n",
    "word = random.choice(word_list)\n",
    "word_display = [\"_\"] * len(word)  # Underscores for hidden letters\n",
    "attempts = 6  # Maximum incorrect guesses\n",
    "guessed_letters = set()\n",
    "\n",
    "print(\"Welcome to Hangman!\")\n",
    "print(\" \".join(word_display))\n",
    "\n",
    "while attempts > 0 and \"_\" in word_display:\n",
    "    guess = input(\"\\nGuess a letter: \").lower()\n",
    "\n",
    "    if len(guess) != 1 or not guess.isalpha():\n",
    "        print(\"Please enter a single valid letter!\")\n",
    "        continue\n",
    "\n",
    "    if guess in guessed_letters:\n",
    "        print(\"You already guessed that letter!\")\n",
    "        continue\n",
    "\n",
    "    guessed_letters.add(guess)\n",
    "\n",
    "    if guess in word:\n",
    "        print(\"Good guess!\")\n",
    "        for i in enumerate(word):\n",
    "            if i == guess:\n",
    "                word_display[i] = guess\n",
    "    else:\n",
    "        print(\"Wrong guess!\")\n",
    "        attempts -= 1\n",
    "        print(f\"Attempts left: {attempts}\")\n",
    "\n",
    "    print(\" \".join(word_display))\n",
    "\n",
    "# Game result\n",
    "if \"_\" not in word_display:\n",
    "    print(\"\\nCongratulations! You guessed the word:\", word)\n",
    "else:\n",
    "    print(\"\\nGame Over! The word was:\", word)\n"
   ]
  }
 ],
 "metadata": {
  "kernelspec": {
   "display_name": "python_basics",
   "language": "python",
   "name": "python3"
  },
  "language_info": {
   "codemirror_mode": {
    "name": "ipython",
    "version": 3
   },
   "file_extension": ".py",
   "mimetype": "text/x-python",
   "name": "python",
   "nbconvert_exporter": "python",
   "pygments_lexer": "ipython3",
   "version": "3.10.16"
  }
 },
 "nbformat": 4,
 "nbformat_minor": 2
}
